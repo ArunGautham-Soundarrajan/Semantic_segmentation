{
 "cells": [
  {
   "cell_type": "code",
   "execution_count": 1,
   "metadata": {},
   "outputs": [],
   "source": [
    "import os\n",
    "import shutil\n",
    "import random "
   ]
  },
  {
   "cell_type": "code",
   "execution_count": 6,
   "metadata": {},
   "outputs": [],
   "source": [
    "base_path = os.getcwd()\n",
    "data_path = os.path.join(os.getcwd(), 'OCID-dataset', 'OCID-dataset','YCB10')  \n",
    "shapes = ['cuboid', 'curved', 'mixed']\n",
    "for shape in shapes:\n",
    "    os.mkdir(os.path.join(base_path, 'YCB_'+shape))\n",
    "    os.mkdir(os.path.join(base_path, 'YCB_'+shape, 'images'))\n",
    "    os.mkdir(os.path.join(base_path, 'YCB_'+shape, 'labels'))"
   ]
  },
  {
   "cell_type": "code",
   "execution_count": 7,
   "metadata": {},
   "outputs": [],
   "source": [
    "background = ['floor', 'table']\n",
    "view = ['top', 'bottom']"
   ]
  },
  {
   "cell_type": "code",
   "execution_count": 8,
   "metadata": {},
   "outputs": [],
   "source": [
    "for i in background:\n",
    "    for j in view:\n",
    "        for shape in shapes: \n",
    "            dest_path = os.path.join(os.path.join(base_path, 'YCB_'+ shape))\n",
    "            for seq in os.listdir(os.path.join(data_path, i, j, shape)):\n",
    "                images = os.listdir(os.path.join(data_path,i,j,shape, seq,'rgb'))\n",
    "                for image in images:\n",
    "                    shutil.copyfile(os.path.join(data_path, i, j, shape, seq,'rgb', image), os.path.join(dest_path, 'images',image))\n",
    "                masks = os.listdir(os.path.join(data_path,i,j, shape, seq,'label'))\n",
    "                for mask in masks:\n",
    "                    shutil.copyfile(os.path.join(data_path, i, j, shape, seq,'label', mask), os.path.join(dest_path, 'labels', mask))"
   ]
  },
  {
   "cell_type": "code",
   "execution_count": null,
   "metadata": {},
   "outputs": [],
   "source": []
  }
 ],
 "metadata": {
  "kernelspec": {
   "display_name": "Python 3",
   "language": "python",
   "name": "python3"
  },
  "language_info": {
   "codemirror_mode": {
    "name": "ipython",
    "version": 3
   },
   "file_extension": ".py",
   "mimetype": "text/x-python",
   "name": "python",
   "nbconvert_exporter": "python",
   "pygments_lexer": "ipython3",
   "version": "3.8.5"
  }
 },
 "nbformat": 4,
 "nbformat_minor": 4
}

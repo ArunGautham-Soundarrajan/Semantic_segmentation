{
 "cells": [
  {
   "cell_type": "code",
   "execution_count": 1,
   "metadata": {},
   "outputs": [],
   "source": [
    "import os\n",
    "import shutil\n",
    "import random "
   ]
  },
  {
   "cell_type": "code",
   "execution_count": 14,
   "metadata": {},
   "outputs": [],
   "source": [
    "base_path = os.getcwd()\n",
    "data_path = os.path.join(os.getcwd(), 'fat', 'fat','mixed','kitchen_0')  \n",
    "if not os.path.exists(os.path.join(base_path, 'fat_data')):\n",
    "    os.mkdir(os.path.join(base_path, 'fat_data'))\n",
    "\n",
    "dest_path = os.path.join(base_path, 'fat_data')\n",
    "\n",
    "if not os.path.exists(os.path.join(dest_path, 'images')):\n",
    "    os.mkdir(os.path.join(dest_path, 'images'))\n",
    "if not os.path.exists(os.path.join(dest_path, 'labels')):    \n",
    "    os.mkdir(os.path.join(dest_path, 'labels'))"
   ]
  },
  {
   "cell_type": "code",
   "execution_count": 15,
   "metadata": {},
   "outputs": [],
   "source": [
    "for img in os.listdir(data_path):\n",
    "    if img.endswith('.jpg'):\n",
    "        shutil.copyfile(os.path.join(data_path, img), os.path.join(dest_path, 'images',img))\n",
    "    elif img.endswith('.png') and 'seg' in img:\n",
    "        shutil.copyfile(os.path.join(data_path, img), os.path.join(dest_path, 'labels',img))"
   ]
  },
  {
   "cell_type": "code",
   "execution_count": null,
   "metadata": {},
   "outputs": [],
   "source": []
  }
 ],
 "metadata": {
  "kernelspec": {
   "display_name": "Python 3",
   "language": "python",
   "name": "python3"
  },
  "language_info": {
   "codemirror_mode": {
    "name": "ipython",
    "version": 3
   },
   "file_extension": ".py",
   "mimetype": "text/x-python",
   "name": "python",
   "nbconvert_exporter": "python",
   "pygments_lexer": "ipython3",
   "version": "3.8.5"
  }
 },
 "nbformat": 4,
 "nbformat_minor": 4
}

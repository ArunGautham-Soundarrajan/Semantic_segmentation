{
 "cells": [
  {
   "cell_type": "code",
   "execution_count": 3,
   "metadata": {},
   "outputs": [],
   "source": [
    "import os\n",
    "import shutil\n",
    "import random "
   ]
  },
  {
   "cell_type": "code",
   "execution_count": 4,
   "metadata": {},
   "outputs": [],
   "source": [
    "base_path = os.getcwd()\n",
    "data_path = os.path.join(os.getcwd(), 'OCID-dataset', 'OCID-dataset','ARID20')  \n",
    "os.mkdir(os.path.join(base_path, 'Data_OCID'))"
   ]
  },
  {
   "cell_type": "code",
   "execution_count": 5,
   "metadata": {},
   "outputs": [],
   "source": [
    "dest_path = os.path.join(os.path.join(base_path, 'Data_OCID'))"
   ]
  },
  {
   "cell_type": "code",
   "execution_count": 6,
   "metadata": {},
   "outputs": [],
   "source": [
    "os.mkdir(os.path.join(dest_path, 'images'))\n",
    "os.mkdir(os.path.join(dest_path, 'labels'))"
   ]
  },
  {
   "cell_type": "code",
   "execution_count": 7,
   "metadata": {},
   "outputs": [],
   "source": [
    "background = ['floor', 'table']\n",
    "view = ['top', 'bottom']"
   ]
  },
  {
   "cell_type": "code",
   "execution_count": 13,
   "metadata": {},
   "outputs": [],
   "source": [
    "random.seed(24)\n",
    "random_list = list(range(1,14))"
   ]
  },
  {
   "cell_type": "code",
   "execution_count": 14,
   "metadata": {},
   "outputs": [
    {
     "data": {
      "text/plain": [
       "[1, 2, 3, 4, 5, 6, 7, 8, 9, 10, 11, 12, 13]"
      ]
     },
     "execution_count": 14,
     "metadata": {},
     "output_type": "execute_result"
    }
   ],
   "source": [
    "random_list"
   ]
  },
  {
   "cell_type": "code",
   "execution_count": 15,
   "metadata": {},
   "outputs": [],
   "source": [
    "seq_name = []\n",
    "for i in random_list:\n",
    "    seq = 'seq'+str(i).zfill(2)\n",
    "    seq_name.append(seq)"
   ]
  },
  {
   "cell_type": "code",
   "execution_count": 16,
   "metadata": {},
   "outputs": [],
   "source": [
    "for i in background:\n",
    "    for j in view:\n",
    "        for seq in seq_name:\n",
    "            images = os.listdir(os.path.join(data_path,i,j,seq,'rgb'))\n",
    "            for image in images:\n",
    "                shutil.copyfile(os.path.join(data_path, i, j, seq,'rgb', image), os.path.join(dest_path, 'images',image))\n",
    "            masks = os.listdir(os.path.join(data_path,i,j,seq,'label'))\n",
    "            for mask in masks:\n",
    "                shutil.copyfile(os.path.join(data_path, i, j, seq,'label', mask), os.path.join(dest_path, 'labels', mask))"
   ]
  },
  {
   "cell_type": "code",
   "execution_count": null,
   "metadata": {},
   "outputs": [],
   "source": []
  }
 ],
 "metadata": {
  "kernelspec": {
   "display_name": "Python 3",
   "language": "python",
   "name": "python3"
  },
  "language_info": {
   "codemirror_mode": {
    "name": "ipython",
    "version": 3
   },
   "file_extension": ".py",
   "mimetype": "text/x-python",
   "name": "python",
   "nbconvert_exporter": "python",
   "pygments_lexer": "ipython3",
   "version": "3.8.5"
  }
 },
 "nbformat": 4,
 "nbformat_minor": 4
}
